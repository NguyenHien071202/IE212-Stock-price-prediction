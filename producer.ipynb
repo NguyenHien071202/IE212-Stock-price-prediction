{
 "cells": [
  {
   "cell_type": "code",
   "execution_count": 1,
   "id": "478cd1ba",
   "metadata": {},
   "outputs": [
    {
     "name": "stdout",
     "output_type": "stream",
     "text": [
      "Sent AMZN price to Kafka: 155.34\n",
      "Sent AMZN price to Kafka: 155.34\n",
      "Sent AMZN price to Kafka: 155.34\n",
      "Sent AMZN price to Kafka: 155.34\n",
      "Sent AMZN price to Kafka: 155.34\n",
      "Sent AMZN price to Kafka: 155.34\n",
      "Sent AMZN price to Kafka: 155.34\n",
      "Sent AMZN price to Kafka: 155.34\n",
      "Sent AMZN price to Kafka: 155.34\n",
      "Sent AMZN price to Kafka: 155.34\n",
      "Sent AMZN price to Kafka: 155.34\n",
      "Sent AMZN price to Kafka: 155.34\n",
      "Sent AMZN price to Kafka: 155.34\n"
     ]
    },
    {
     "ename": "KeyboardInterrupt",
     "evalue": "",
     "output_type": "error",
     "traceback": [
      "\u001b[1;31m---------------------------------------------------------------------------\u001b[0m",
      "\u001b[1;31mKeyboardInterrupt\u001b[0m                         Traceback (most recent call last)",
      "Cell \u001b[1;32mIn[1], line 48\u001b[0m\n\u001b[0;32m     45\u001b[0m         time\u001b[38;5;241m.\u001b[39msleep(\u001b[38;5;241m5\u001b[39m)\n\u001b[0;32m     47\u001b[0m \u001b[38;5;66;03m# Start sending stock price data\u001b[39;00m\n\u001b[1;32m---> 48\u001b[0m fetch_and_send_stock_price()\n",
      "Cell \u001b[1;32mIn[1], line 45\u001b[0m, in \u001b[0;36mfetch_and_send_stock_price\u001b[1;34m()\u001b[0m\n\u001b[0;32m     42\u001b[0m     \u001b[38;5;28mprint\u001b[39m(traceback\u001b[38;5;241m.\u001b[39mformat_exc())\n\u001b[0;32m     44\u001b[0m \u001b[38;5;66;03m# Sleep for a specified interval (e.g., 5 seconds) before fetching the next price\u001b[39;00m\n\u001b[1;32m---> 45\u001b[0m time\u001b[38;5;241m.\u001b[39msleep(\u001b[38;5;241m5\u001b[39m)\n",
      "\u001b[1;31mKeyboardInterrupt\u001b[0m: "
     ]
    }
   ],
   "source": [
    "from kafka import KafkaProducer\n",
    "import yfinance as yf\n",
    "import time\n",
    "import requests\n",
    "import json\n",
    "\n",
    "# Kafka producer configuration\n",
    "producer = KafkaProducer(bootstrap_servers='localhost:9092')\n",
    "\n",
    "# Kafka topic to send stock price data\n",
    "topic = 'conn-events'\n",
    "\n",
    "# Ticker symbol of the stock (e.g., Apple Inc.)\n",
    "ticker_symbol = 'AMZN'\n",
    "\n",
    "# Headers for the HTTP request\n",
    "headers = {\n",
    "    'User-Agent': 'Mozilla/5.0 (Windows NT 10.0; Win64; x64) AppleWebKit/537.36 (KHTML, like Gecko) Chrome/58.0.3029.110 Safari/537.3',\n",
    "    'Content-Type': 'application/json',\n",
    "    'Authorization': 'Bearer <token>'\n",
    "}\n",
    "\n",
    "# Function to fetch stock price and send to Kafka\n",
    "def fetch_and_send_stock_price():\n",
    "    while True:\n",
    "        try:\n",
    "            url = 'https://query2.finance.yahoo.com/v8/finance/chart/amzn'\n",
    "\n",
    "            response = requests.get(url, headers=headers)\n",
    "            data = json.loads(response.text)\n",
    "            price = data[\"chart\"][\"result\"][0][\"meta\"][\"regularMarketPrice\"]\n",
    "\n",
    "            # Produce the stock price to the Kafka topic\n",
    "            producer.send(topic, key=ticker_symbol.encode(), value=str(price).encode())\n",
    "\n",
    "            print(f\"Sent {ticker_symbol} price to Kafka: {price}\")\n",
    "\n",
    "        except Exception as e:\n",
    "            import traceback\n",
    "            print(f\"Error fetching/sending stock price: {e}\")\n",
    "            print(f\"Exception type: {type(e)}\")\n",
    "            print(traceback.format_exc())\n",
    "\n",
    "        # Sleep for a specified interval (e.g., 5 seconds) before fetching the next price\n",
    "        time.sleep(5)\n",
    "\n",
    "# Start sending stock price data\n",
    "fetch_and_send_stock_price()"
   ]
  },
  {
   "cell_type": "code",
   "execution_count": null,
   "id": "675e6a9c",
   "metadata": {},
   "outputs": [],
   "source": []
  }
 ],
 "metadata": {
  "kernelspec": {
   "display_name": "Python 3 (ipykernel)",
   "language": "python",
   "name": "python3"
  },
  "language_info": {
   "codemirror_mode": {
    "name": "ipython",
    "version": 3
   },
   "file_extension": ".py",
   "mimetype": "text/x-python",
   "name": "python",
   "nbconvert_exporter": "python",
   "pygments_lexer": "ipython3",
   "version": "3.11.5"
  }
 },
 "nbformat": 4,
 "nbformat_minor": 5
}
