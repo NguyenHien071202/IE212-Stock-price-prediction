{
 "cells": [
  {
   "cell_type": "code",
   "execution_count": 1,
   "id": "478cd1ba",
   "metadata": {},
   "outputs": [
    {
     "name": "stdout",
     "output_type": "stream",
     "text": [
      "Send: 1997-05-15,0.121875,0.125000,0.096354,0.097917,0.097917,1443120000\n",
      "Send: 1997-05-16,0.098438,0.098958,0.085417,0.086458,0.086458,294000000\n",
      "Send: 1997-05-19,0.088021,0.088542,0.081250,0.085417,0.085417,122136000\n",
      "Send: 1997-05-20,0.086458,0.087500,0.081771,0.081771,0.081771,109344000\n",
      "Send: 1997-05-21,0.081771,0.082292,0.068750,0.071354,0.071354,377064000\n",
      "Send: 1997-05-22,0.071875,0.072396,0.065625,0.069792,0.069792,235536000\n",
      "Send: 1997-05-23,0.070313,0.076042,0.066667,0.075000,0.075000,318744000\n",
      "Send: 1997-05-27,0.075521,0.082292,0.072917,0.079167,0.079167,173952000\n",
      "Send: 1997-05-28,0.081250,0.081771,0.076563,0.076563,0.076563,91488000\n",
      "Send: 1997-05-29,0.077083,0.077083,0.073958,0.075260,0.075260,69456000\n",
      "Send: 1997-05-30,0.075000,0.075521,0.073958,0.075000,0.075000,51888000\n",
      "Send: 1997-06-02,0.075521,0.076563,0.075000,0.075521,0.075521,11832000\n",
      "Send: 1997-06-03,0.076563,0.076563,0.073958,0.073958,0.073958,23664000\n",
      "Send: 1997-06-04,0.073958,0.074479,0.069792,0.070833,0.070833,61608000\n",
      "Send: 1997-06-05,0.070833,0.077083,0.068750,0.077083,0.077083,113448000\n",
      "Send: 1997-06-06,0.075781,0.085417,0.075521,0.082813,0.082813,156144000\n",
      "Send: 1997-06-09,0.082813,0.085417,0.082813,0.084375,0.084375,47040000\n",
      "Send: 1997-06-10,0.085417,0.085417,0.076563,0.079167,0.079167,109176000\n",
      "Send: 1997-06-11,0.079688,0.080208,0.076563,0.077083,0.077083,23760000\n",
      "Send: 1997-06-12,0.079167,0.082292,0.077604,0.080208,0.080208,32640000\n",
      "Send: 1997-06-13,0.081250,0.081250,0.079167,0.079167,0.079167,13872000\n",
      "Send: 1997-06-16,0.080208,0.080208,0.078125,0.078646,0.078646,18264000\n",
      "Send: 1997-06-17,0.079948,0.079948,0.074740,0.075260,0.075260,94128000\n",
      "Send: 1997-06-18,0.076042,0.076823,0.075000,0.075521,0.075521,49296000\n",
      "Send: 1997-06-19,0.075521,0.076563,0.075000,0.075521,0.075521,20064000\n",
      "Send: 1997-06-20,0.076563,0.077604,0.075000,0.076302,0.076302,67752000\n",
      "Send: 1997-06-23,0.077083,0.077083,0.073958,0.075000,0.075000,20952000\n"
     ]
    },
    {
     "ename": "KeyboardInterrupt",
     "evalue": "",
     "output_type": "error",
     "traceback": [
      "\u001b[1;31m---------------------------------------------------------------------------\u001b[0m",
      "\u001b[1;31mKeyboardInterrupt\u001b[0m                         Traceback (most recent call last)",
      "Cell \u001b[1;32mIn[1], line 21\u001b[0m\n\u001b[0;32m     19\u001b[0m         \u001b[38;5;28mprint\u001b[39m(\u001b[38;5;124m\"\u001b[39m\u001b[38;5;124mSend:\u001b[39m\u001b[38;5;124m\"\u001b[39m, message)\n\u001b[0;32m     20\u001b[0m         producer\u001b[38;5;241m.\u001b[39msend(topic_name, value\u001b[38;5;241m=\u001b[39mmessage)\n\u001b[1;32m---> 21\u001b[0m         time\u001b[38;5;241m.\u001b[39msleep(\u001b[38;5;241m5\u001b[39m)\n\u001b[0;32m     23\u001b[0m producer\u001b[38;5;241m.\u001b[39mclose()\n",
      "\u001b[1;31mKeyboardInterrupt\u001b[0m: "
     ]
    }
   ],
   "source": [
    "from kafka import KafkaProducer\n",
    "from json import dumps\n",
    "import csv\n",
    "from time import sleep\n",
    "import time\n",
    "\n",
    "topic_name = 'amzn_stock_data3'\n",
    "kafka_server = 'localhost:9092'\n",
    "\n",
    "producer = KafkaProducer(bootstrap_servers=kafka_server, value_serializer=lambda x:dumps(x).encode('utf-8'))\n",
    "\n",
    "file_path = 'C:/Users/ASUS/Downloads/AMZN.csv'\n",
    "\n",
    "with open(file_path, 'r') as file:\n",
    "    csv_reader = csv.reader(file)\n",
    "    next(csv_reader)\n",
    "    for row in csv_reader:\n",
    "        message = ','.join(row)\n",
    "        print(\"Send:\", message)\n",
    "        producer.send(topic_name, value=message)\n",
    "        time.sleep(5)\n",
    "\n",
    "producer.close()"
   ]
  },
  {
   "cell_type": "code",
   "execution_count": null,
   "id": "71d1f105",
   "metadata": {},
   "outputs": [],
   "source": []
  }
 ],
 "metadata": {
  "kernelspec": {
   "display_name": "Python 3 (ipykernel)",
   "language": "python",
   "name": "python3"
  },
  "language_info": {
   "codemirror_mode": {
    "name": "ipython",
    "version": 3
   },
   "file_extension": ".py",
   "mimetype": "text/x-python",
   "name": "python",
   "nbconvert_exporter": "python",
   "pygments_lexer": "ipython3",
   "version": "3.11.5"
  }
 },
 "nbformat": 4,
 "nbformat_minor": 5
}
