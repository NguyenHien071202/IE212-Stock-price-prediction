{
 "cells": [
  {
   "cell_type": "code",
   "execution_count": 1,
   "metadata": {},
   "outputs": [],
   "source": [
    "from pyspark.sql import SparkSession\n",
    "from pyspark.sql.functions import col, count, isnan, when\n",
    "spark = SparkSession.builder.appName('Stock Data').getOrCreate()"
   ]
  },
  {
   "cell_type": "markdown",
   "metadata": {},
   "source": [
    "Loading file in dataframe"
   ]
  },
  {
   "cell_type": "code",
   "execution_count": 2,
   "metadata": {},
   "outputs": [],
   "source": [
    "dataset = spark.read.csv('AMZN.csv', inferSchema=True, header=True)"
   ]
  },
  {
   "cell_type": "code",
   "execution_count": 3,
   "metadata": {},
   "outputs": [
    {
     "data": {
      "text/plain": [
       "['Date', 'Open', 'High', 'Low', 'Close', 'Adj Close', 'Volume']"
      ]
     },
     "execution_count": 3,
     "metadata": {},
     "output_type": "execute_result"
    }
   ],
   "source": [
    "dataset.columns"
   ]
  },
  {
   "cell_type": "code",
   "execution_count": 4,
   "metadata": {},
   "outputs": [
    {
     "name": "stdout",
     "output_type": "stream",
     "text": [
      "root\n",
      " |-- Date: date (nullable = true)\n",
      " |-- Open: double (nullable = true)\n",
      " |-- High: double (nullable = true)\n",
      " |-- Low: double (nullable = true)\n",
      " |-- Close: double (nullable = true)\n",
      " |-- Adj Close: double (nullable = true)\n",
      " |-- Volume: integer (nullable = true)\n",
      "\n"
     ]
    }
   ],
   "source": [
    "dataset.printSchema()"
   ]
  },
  {
   "cell_type": "code",
   "execution_count": 5,
   "metadata": {},
   "outputs": [
    {
     "name": "stdout",
     "output_type": "stream",
     "text": [
      "+----------+--------+--------+--------+--------+---------+----------+\n",
      "|      Date|    Open|    High|     Low|   Close|Adj Close|    Volume|\n",
      "+----------+--------+--------+--------+--------+---------+----------+\n",
      "|1997-05-15|0.121875|   0.125|0.096354|0.097917| 0.097917|1443120000|\n",
      "|1997-05-16|0.098438|0.098958|0.085417|0.086458| 0.086458| 294000000|\n",
      "|1997-05-19|0.088021|0.088542| 0.08125|0.085417| 0.085417| 122136000|\n",
      "|1997-05-20|0.086458|  0.0875|0.081771|0.081771| 0.081771| 109344000|\n",
      "|1997-05-21|0.081771|0.082292| 0.06875|0.071354| 0.071354| 377064000|\n",
      "|1997-05-22|0.071875|0.072396|0.065625|0.069792| 0.069792| 235536000|\n",
      "|1997-05-23|0.070313|0.076042|0.066667|   0.075|    0.075| 318744000|\n",
      "|1997-05-27|0.075521|0.082292|0.072917|0.079167| 0.079167| 173952000|\n",
      "|1997-05-28| 0.08125|0.081771|0.076563|0.076563| 0.076563|  91488000|\n",
      "|1997-05-29|0.077083|0.077083|0.073958| 0.07526|  0.07526|  69456000|\n",
      "|1997-05-30|   0.075|0.075521|0.073958|   0.075|    0.075|  51888000|\n",
      "|1997-06-02|0.075521|0.076563|   0.075|0.075521| 0.075521|  11832000|\n",
      "|1997-06-03|0.076563|0.076563|0.073958|0.073958| 0.073958|  23664000|\n",
      "|1997-06-04|0.073958|0.074479|0.069792|0.070833| 0.070833|  61608000|\n",
      "|1997-06-05|0.070833|0.077083| 0.06875|0.077083| 0.077083| 113448000|\n",
      "|1997-06-06|0.075781|0.085417|0.075521|0.082813| 0.082813| 156144000|\n",
      "|1997-06-09|0.082813|0.085417|0.082813|0.084375| 0.084375|  47040000|\n",
      "|1997-06-10|0.085417|0.085417|0.076563|0.079167| 0.079167| 109176000|\n",
      "|1997-06-11|0.079688|0.080208|0.076563|0.077083| 0.077083|  23760000|\n",
      "|1997-06-12|0.079167|0.082292|0.077604|0.080208| 0.080208|  32640000|\n",
      "+----------+--------+--------+--------+--------+---------+----------+\n",
      "only showing top 20 rows\n",
      "\n"
     ]
    }
   ],
   "source": [
    "dataset.show()"
   ]
  },
  {
   "cell_type": "code",
   "execution_count": 6,
   "metadata": {},
   "outputs": [
    {
     "name": "stdout",
     "output_type": "stream",
     "text": [
      "+----+----+----+---+-----+---------+------+\n",
      "|Date|Open|High|Low|Close|Adj Close|Volume|\n",
      "+----+----+----+---+-----+---------+------+\n",
      "|   0|   0|   0|  0|    0|        0|     0|\n",
      "+----+----+----+---+-----+---------+------+\n",
      "\n"
     ]
    }
   ],
   "source": [
    "null_checks = [count(when(col(c).isNull(), c)).alias(c) for c in dataset.columns]\n",
    "dataset.select(null_checks).show()"
   ]
  },
  {
   "cell_type": "code",
   "execution_count": 7,
   "metadata": {},
   "outputs": [],
   "source": [
    "from pyspark.ml.linalg import Vector\n",
    "from pyspark.ml.feature import VectorAssembler"
   ]
  },
  {
   "cell_type": "code",
   "execution_count": 8,
   "metadata": {},
   "outputs": [],
   "source": [
    "featureassembler=VectorAssembler(inputCols=[\"Open\", \"High\", \"Low\"], outputCol='Features')"
   ]
  },
  {
   "cell_type": "code",
   "execution_count": 9,
   "metadata": {},
   "outputs": [],
   "source": [
    "output=featureassembler.transform(dataset)"
   ]
  },
  {
   "cell_type": "code",
   "execution_count": 10,
   "metadata": {},
   "outputs": [
    {
     "name": "stdout",
     "output_type": "stream",
     "text": [
      "+----------+--------+--------+--------+--------+---------+----------+--------------------+\n",
      "|      Date|    Open|    High|     Low|   Close|Adj Close|    Volume|            Features|\n",
      "+----------+--------+--------+--------+--------+---------+----------+--------------------+\n",
      "|1997-05-15|0.121875|   0.125|0.096354|0.097917| 0.097917|1443120000|[0.121875,0.125,0...|\n",
      "|1997-05-16|0.098438|0.098958|0.085417|0.086458| 0.086458| 294000000|[0.098438,0.09895...|\n",
      "|1997-05-19|0.088021|0.088542| 0.08125|0.085417| 0.085417| 122136000|[0.088021,0.08854...|\n",
      "|1997-05-20|0.086458|  0.0875|0.081771|0.081771| 0.081771| 109344000|[0.086458,0.0875,...|\n",
      "|1997-05-21|0.081771|0.082292| 0.06875|0.071354| 0.071354| 377064000|[0.081771,0.08229...|\n",
      "|1997-05-22|0.071875|0.072396|0.065625|0.069792| 0.069792| 235536000|[0.071875,0.07239...|\n",
      "|1997-05-23|0.070313|0.076042|0.066667|   0.075|    0.075| 318744000|[0.070313,0.07604...|\n",
      "|1997-05-27|0.075521|0.082292|0.072917|0.079167| 0.079167| 173952000|[0.075521,0.08229...|\n",
      "|1997-05-28| 0.08125|0.081771|0.076563|0.076563| 0.076563|  91488000|[0.08125,0.081771...|\n",
      "|1997-05-29|0.077083|0.077083|0.073958| 0.07526|  0.07526|  69456000|[0.077083,0.07708...|\n",
      "|1997-05-30|   0.075|0.075521|0.073958|   0.075|    0.075|  51888000|[0.075,0.075521,0...|\n",
      "|1997-06-02|0.075521|0.076563|   0.075|0.075521| 0.075521|  11832000|[0.075521,0.07656...|\n",
      "|1997-06-03|0.076563|0.076563|0.073958|0.073958| 0.073958|  23664000|[0.076563,0.07656...|\n",
      "|1997-06-04|0.073958|0.074479|0.069792|0.070833| 0.070833|  61608000|[0.073958,0.07447...|\n",
      "|1997-06-05|0.070833|0.077083| 0.06875|0.077083| 0.077083| 113448000|[0.070833,0.07708...|\n",
      "|1997-06-06|0.075781|0.085417|0.075521|0.082813| 0.082813| 156144000|[0.075781,0.08541...|\n",
      "|1997-06-09|0.082813|0.085417|0.082813|0.084375| 0.084375|  47040000|[0.082813,0.08541...|\n",
      "|1997-06-10|0.085417|0.085417|0.076563|0.079167| 0.079167| 109176000|[0.085417,0.08541...|\n",
      "|1997-06-11|0.079688|0.080208|0.076563|0.077083| 0.077083|  23760000|[0.079688,0.08020...|\n",
      "|1997-06-12|0.079167|0.082292|0.077604|0.080208| 0.080208|  32640000|[0.079167,0.08229...|\n",
      "+----------+--------+--------+--------+--------+---------+----------+--------------------+\n",
      "only showing top 20 rows\n",
      "\n"
     ]
    }
   ],
   "source": [
    "output.show()"
   ]
  },
  {
   "cell_type": "code",
   "execution_count": 11,
   "metadata": {},
   "outputs": [
    {
     "name": "stdout",
     "output_type": "stream",
     "text": [
      "+--------------------+\n",
      "|            Features|\n",
      "+--------------------+\n",
      "|[0.121875,0.125,0...|\n",
      "|[0.098438,0.09895...|\n",
      "|[0.088021,0.08854...|\n",
      "|[0.086458,0.0875,...|\n",
      "|[0.081771,0.08229...|\n",
      "|[0.071875,0.07239...|\n",
      "|[0.070313,0.07604...|\n",
      "|[0.075521,0.08229...|\n",
      "|[0.08125,0.081771...|\n",
      "|[0.077083,0.07708...|\n",
      "|[0.075,0.075521,0...|\n",
      "|[0.075521,0.07656...|\n",
      "|[0.076563,0.07656...|\n",
      "|[0.073958,0.07447...|\n",
      "|[0.070833,0.07708...|\n",
      "|[0.075781,0.08541...|\n",
      "|[0.082813,0.08541...|\n",
      "|[0.085417,0.08541...|\n",
      "|[0.079688,0.08020...|\n",
      "|[0.079167,0.08229...|\n",
      "+--------------------+\n",
      "only showing top 20 rows\n",
      "\n"
     ]
    }
   ],
   "source": [
    "output.select(['Features']).show()"
   ]
  },
  {
   "cell_type": "code",
   "execution_count": 12,
   "metadata": {},
   "outputs": [
    {
     "data": {
      "text/plain": [
       "['Date', 'Open', 'High', 'Low', 'Close', 'Adj Close', 'Volume', 'Features']"
      ]
     },
     "execution_count": 12,
     "metadata": {},
     "output_type": "execute_result"
    }
   ],
   "source": [
    "output.columns"
   ]
  },
  {
   "cell_type": "code",
   "execution_count": 13,
   "metadata": {},
   "outputs": [],
   "source": [
    "final_data=output.select(\"Date\", \"Features\", \"Close\").sort(\"Date\", ascending=True)"
   ]
  },
  {
   "cell_type": "code",
   "execution_count": 14,
   "metadata": {},
   "outputs": [
    {
     "name": "stdout",
     "output_type": "stream",
     "text": [
      "+----------+--------------------+--------+\n",
      "|      Date|            Features|   Close|\n",
      "+----------+--------------------+--------+\n",
      "|1997-05-15|[0.121875,0.125,0...|0.097917|\n",
      "|1997-05-16|[0.098438,0.09895...|0.086458|\n",
      "|1997-05-19|[0.088021,0.08854...|0.085417|\n",
      "|1997-05-20|[0.086458,0.0875,...|0.081771|\n",
      "|1997-05-21|[0.081771,0.08229...|0.071354|\n",
      "|1997-05-22|[0.071875,0.07239...|0.069792|\n",
      "|1997-05-23|[0.070313,0.07604...|   0.075|\n",
      "|1997-05-27|[0.075521,0.08229...|0.079167|\n",
      "|1997-05-28|[0.08125,0.081771...|0.076563|\n",
      "|1997-05-29|[0.077083,0.07708...| 0.07526|\n",
      "|1997-05-30|[0.075,0.075521,0...|   0.075|\n",
      "|1997-06-02|[0.075521,0.07656...|0.075521|\n",
      "|1997-06-03|[0.076563,0.07656...|0.073958|\n",
      "|1997-06-04|[0.073958,0.07447...|0.070833|\n",
      "|1997-06-05|[0.070833,0.07708...|0.077083|\n",
      "|1997-06-06|[0.075781,0.08541...|0.082813|\n",
      "|1997-06-09|[0.082813,0.08541...|0.084375|\n",
      "|1997-06-10|[0.085417,0.08541...|0.079167|\n",
      "|1997-06-11|[0.079688,0.08020...|0.077083|\n",
      "|1997-06-12|[0.079167,0.08229...|0.080208|\n",
      "+----------+--------------------+--------+\n",
      "only showing top 20 rows\n",
      "\n"
     ]
    }
   ],
   "source": [
    "final_data.show()"
   ]
  },
  {
   "cell_type": "code",
   "execution_count": 15,
   "metadata": {},
   "outputs": [
    {
     "name": "stdout",
     "output_type": "stream",
     "text": [
      "There are 4974 rows in the trainning set,\n",
      "      and 1740 in the test set\n"
     ]
    }
   ],
   "source": [
    "train_data, test_data=final_data.randomSplit([0.75,0.25])\n",
    "print(f\"\"\"There are {train_data.count()} rows in the trainning set,\n",
    "      and {test_data.count()} in the test set\"\"\")"
   ]
  },
  {
   "cell_type": "markdown",
   "metadata": {},
   "source": [
    "Linear Regression model"
   ]
  },
  {
   "cell_type": "code",
   "execution_count": 16,
   "metadata": {},
   "outputs": [],
   "source": [
    "from pyspark.ml.regression import LinearRegression"
   ]
  },
  {
   "cell_type": "code",
   "execution_count": 17,
   "metadata": {},
   "outputs": [],
   "source": [
    "regressor=LinearRegression(featuresCol='Features', labelCol='Close')\n",
    "lr_model=regressor.fit(train_data)"
   ]
  },
  {
   "cell_type": "code",
   "execution_count": 18,
   "metadata": {},
   "outputs": [
    {
     "data": {
      "text/plain": [
       "DenseVector([-0.6222, 0.8415, 0.7802])"
      ]
     },
     "execution_count": 18,
     "metadata": {},
     "output_type": "execute_result"
    }
   ],
   "source": [
    "lr_model.coefficients"
   ]
  },
  {
   "cell_type": "code",
   "execution_count": 19,
   "metadata": {},
   "outputs": [
    {
     "data": {
      "text/plain": [
       "0.008152757635862708"
      ]
     },
     "execution_count": 19,
     "metadata": {},
     "output_type": "execute_result"
    }
   ],
   "source": [
    "lr_model.intercept"
   ]
  },
  {
   "cell_type": "code",
   "execution_count": 20,
   "metadata": {},
   "outputs": [
    {
     "name": "stdout",
     "output_type": "stream",
     "text": [
      "+--------------------+--------+-------------------+\n",
      "|            Features|   Close|         Prediction|\n",
      "+--------------------+--------+-------------------+\n",
      "|[0.075,0.075521,0...|   0.075|0.08273744019385013|\n",
      "|[0.079688,0.08020...|0.077083|0.08579686771765538|\n",
      "|[0.075521,0.07656...|0.075521|0.08410304526787288|\n",
      "|[0.075781,0.07578...|0.074479|0.08247027247162975|\n",
      "|[0.075521,0.07994...|0.077083|0.08613837908866005|\n",
      "|[0.126042,0.12604...|0.114583|0.12193546758405585|\n",
      "|[0.117188,0.11718...|0.110938|0.11796261138537718|\n",
      "|[0.121875,0.12187...|0.119792|0.12589821621306624|\n",
      "|[0.117188,0.12083...|0.120833|0.12468656683256488|\n",
      "|[0.11875,0.120573...|0.115625|0.12552757484301436|\n",
      "|[0.108854,0.1125,...|0.107813|0.11778104406904903|\n",
      "|[0.102604,0.10260...|0.102083| 0.1074506646666642|\n",
      "|[0.105208,0.10625...| 0.10625|0.11377470285558343|\n",
      "|[0.118229,0.11875...|0.116927| 0.1251307606738044|\n",
      "|[0.2,0.233854,0.1...|   0.225|0.23449899412204145|\n",
      "|[0.232292,0.24062...| 0.21875|0.23351362235735923|\n",
      "|[0.217188,0.21770...|0.203906|0.21428172503731632|\n",
      "|[0.203646,0.21302...|0.208333| 0.2187637939453712|\n",
      "|[0.207292,0.20937...|0.202083|0.20977042245964947|\n",
      "|[0.2,0.217448,0.1...|0.216927|0.21500480778029513|\n",
      "+--------------------+--------+-------------------+\n",
      "only showing top 20 rows\n",
      "\n"
     ]
    }
   ],
   "source": [
    "pred=lr_model.transform(test_data)\n",
    "pred.select(\"Features\", \"Close\", \"Prediction\").show()"
   ]
  },
  {
   "cell_type": "code",
   "execution_count": 21,
   "metadata": {},
   "outputs": [],
   "source": [
    "from pyspark.ml.evaluation import RegressionEvaluator"
   ]
  },
  {
   "cell_type": "code",
   "execution_count": 22,
   "metadata": {},
   "outputs": [
    {
     "name": "stdout",
     "output_type": "stream",
     "text": [
      "MSE:  0.17220151826064053 \n",
      "r2:  0.999932201467157 \n",
      "\n"
     ]
    }
   ],
   "source": [
    "evaluator = RegressionEvaluator(predictionCol=\"prediction\", labelCol=\"Close\", metricName=\"mse\")\n",
    "mse = evaluator.evaluate(pred)\n",
    "evaluator_r2 = RegressionEvaluator(predictionCol=\"prediction\", labelCol=\"Close\", metricName=\"r2\")\n",
    "r2 = evaluator_r2.evaluate(pred)\n",
    "print('MSE: ', mse, '\\n' + 'r2: ', r2, '\\n')"
   ]
  },
  {
   "cell_type": "markdown",
   "metadata": {},
   "source": [
    "Random Forest Regressor model"
   ]
  },
  {
   "cell_type": "code",
   "execution_count": 23,
   "metadata": {},
   "outputs": [],
   "source": [
    "from pyspark.ml.regression import RandomForestRegressor"
   ]
  },
  {
   "cell_type": "code",
   "execution_count": 24,
   "metadata": {},
   "outputs": [],
   "source": [
    "rf=RandomForestRegressor(featuresCol='Features', labelCol='Close')\n",
    "rf_model=rf.fit(train_data)"
   ]
  },
  {
   "cell_type": "code",
   "execution_count": 25,
   "metadata": {},
   "outputs": [
    {
     "name": "stdout",
     "output_type": "stream",
     "text": [
      "+--------------------+--------+------------------+\n",
      "|            Features|   Close|        Prediction|\n",
      "+--------------------+--------+------------------+\n",
      "|[0.075,0.075521,0...|   0.075|0.6639912677550621|\n",
      "|[0.079688,0.08020...|0.077083|0.6639912677550621|\n",
      "|[0.075521,0.07656...|0.075521|0.6639912677550621|\n",
      "|[0.075781,0.07578...|0.074479|0.6639912677550621|\n",
      "|[0.075521,0.07994...|0.077083|0.6639912677550621|\n",
      "|[0.126042,0.12604...|0.114583|0.6639912677550621|\n",
      "|[0.117188,0.11718...|0.110938|0.6639912677550621|\n",
      "|[0.121875,0.12187...|0.119792|0.6639912677550621|\n",
      "|[0.117188,0.12083...|0.120833|0.6639912677550621|\n",
      "|[0.11875,0.120573...|0.115625|0.6639912677550621|\n",
      "|[0.108854,0.1125,...|0.107813|0.6639912677550621|\n",
      "|[0.102604,0.10260...|0.102083|0.6639912677550621|\n",
      "|[0.105208,0.10625...| 0.10625|0.6639912677550621|\n",
      "|[0.118229,0.11875...|0.116927|0.6639912677550621|\n",
      "|[0.2,0.233854,0.1...|   0.225|0.6639912677550621|\n",
      "|[0.232292,0.24062...| 0.21875|0.6639912677550621|\n",
      "|[0.217188,0.21770...|0.203906|0.6639912677550621|\n",
      "|[0.203646,0.21302...|0.208333|0.6639912677550621|\n",
      "|[0.207292,0.20937...|0.202083|0.6639912677550621|\n",
      "|[0.2,0.217448,0.1...|0.216927|0.6639912677550621|\n",
      "+--------------------+--------+------------------+\n",
      "only showing top 20 rows\n",
      "\n"
     ]
    }
   ],
   "source": [
    "pred2=rf_model.transform(test_data)\n",
    "pred2.select(\"Features\", \"Close\", \"Prediction\").show()"
   ]
  },
  {
   "cell_type": "code",
   "execution_count": 26,
   "metadata": {},
   "outputs": [
    {
     "name": "stdout",
     "output_type": "stream",
     "text": [
      "MSE:  6.40220576043278 \n",
      "r2:  0.9974793476741616 \n",
      "\n"
     ]
    }
   ],
   "source": [
    "mse = evaluator.evaluate(pred2)\n",
    "r2 = evaluator_r2.evaluate(pred2)\n",
    "print('MSE: ', mse, '\\n' + 'r2: ', r2, '\\n')"
   ]
  },
  {
   "cell_type": "markdown",
   "metadata": {},
   "source": [
    "Gradient-Boosted Tree Regression"
   ]
  },
  {
   "cell_type": "code",
   "execution_count": 27,
   "metadata": {},
   "outputs": [],
   "source": [
    "from pyspark.ml.regression import GBTRegressor"
   ]
  },
  {
   "cell_type": "code",
   "execution_count": 28,
   "metadata": {},
   "outputs": [],
   "source": [
    "gbt = GBTRegressor(featuresCol='Features', labelCol='Close', maxIter=10)\n",
    "gbt_model = gbt.fit(train_data)"
   ]
  },
  {
   "cell_type": "code",
   "execution_count": 29,
   "metadata": {},
   "outputs": [
    {
     "name": "stdout",
     "output_type": "stream",
     "text": [
      "+----------------------------+--------+------------------+\n",
      "|Features                    |Close   |Prediction        |\n",
      "+----------------------------+--------+------------------+\n",
      "|[0.075,0.075521,0.073958]   |0.075   |0.2911767711443282|\n",
      "|[0.079688,0.080208,0.076563]|0.077083|0.2911767711443282|\n",
      "|[0.075521,0.076563,0.075]   |0.075521|0.2911767711443282|\n",
      "|[0.075781,0.075781,0.073958]|0.074479|0.2911767711443282|\n",
      "|[0.075521,0.079948,0.073958]|0.077083|0.2911767711443282|\n",
      "|[0.126042,0.126042,0.110417]|0.114583|0.2911767711443282|\n",
      "|[0.117188,0.117188,0.107813]|0.110938|0.2911767711443282|\n",
      "|[0.121875,0.121875,0.116667]|0.119792|0.2911767711443282|\n",
      "|[0.117188,0.120833,0.1125]  |0.120833|0.2911767711443282|\n",
      "|[0.11875,0.120573,0.115104] |0.115625|0.2911767711443282|\n",
      "|[0.108854,0.1125,0.10599]   |0.107813|0.2911767711443282|\n",
      "|[0.102604,0.102604,0.098438]|0.102083|0.2911767711443282|\n",
      "|[0.105208,0.10625,0.104688] |0.10625 |0.2911767711443282|\n",
      "|[0.118229,0.11875,0.116146] |0.116927|0.2911767711443282|\n",
      "|[0.2,0.233854,0.197396]     |0.225   |0.2911767711443282|\n",
      "|[0.232292,0.240625,0.214583]|0.21875 |0.2911767711443282|\n",
      "|[0.217188,0.217708,0.202604]|0.203906|0.2911767711443282|\n",
      "|[0.203646,0.213021,0.202604]|0.208333|0.2911767711443282|\n",
      "|[0.207292,0.209375,0.197917]|0.202083|0.2911767711443282|\n",
      "|[0.2,0.217448,0.190104]     |0.216927|0.2911767711443282|\n",
      "+----------------------------+--------+------------------+\n",
      "only showing top 20 rows\n",
      "\n"
     ]
    }
   ],
   "source": [
    "pred3=gbt_model.transform(test_data)\n",
    "pred3.select(\"Features\", \"Close\", \"Prediction\").show(truncate=False)"
   ]
  },
  {
   "cell_type": "code",
   "execution_count": 30,
   "metadata": {},
   "outputs": [
    {
     "name": "stdout",
     "output_type": "stream",
     "text": [
      "MSE:  6.504598430037338 \n",
      "r2:  0.9974390340181428 \n",
      "\n"
     ]
    }
   ],
   "source": [
    "mse = evaluator.evaluate(pred3)\n",
    "r2 = evaluator_r2.evaluate(pred3)\n",
    "print('MSE: ', mse, '\\n' + 'r2: ', r2, '\\n')"
   ]
  },
  {
   "cell_type": "markdown",
   "metadata": {},
   "source": [
    "Linear Regression model"
   ]
  },
  {
   "cell_type": "code",
   "execution_count": 31,
   "metadata": {},
   "outputs": [],
   "source": [
    "pandas_df = pred.select(\"Close\", \"Prediction\").toPandas()"
   ]
  },
  {
   "cell_type": "code",
   "execution_count": 32,
   "metadata": {},
   "outputs": [
    {
     "data": {
      "image/png": "[encoded data removed]",
      "text/plain": [
       "<Figure size 1000x600 with 1 Axes>"
      ]
     },
     "metadata": {},
     "output_type": "display_data"
    }
   ],
   "source": [
    "import matplotlib.pyplot as plt\n",
    "\n",
    "plt.figure(figsize=(10, 6))\n",
    "plt.plot(pandas_df['Close'], label='Actual')\n",
    "plt.plot(pandas_df['Prediction'], label='Prediction')\n",
    "plt.legend()\n",
    "plt.show()"
   ]
  },
  {
   "cell_type": "code",
   "execution_count": 39,
   "metadata": {
    "scrolled": true
   },
   "outputs": [],
   "source": [
    "lr_model.write().overwrite().save(\"G:/avocado\")"
   ]
  },
  {
   "cell_type": "code",
   "execution_count": 40,
   "metadata": {},
   "outputs": [
    {
     "name": "stdout",
     "output_type": "stream",
     "text": [
      "+----------+--------------------+--------+-------------------+\n",
      "|      Date|            Features|   Close|         prediction|\n",
      "+----------+--------------------+--------+-------------------+\n",
      "|1997-05-30|[0.075,0.075521,0...|   0.075|0.08273744019385013|\n",
      "|1997-06-11|[0.079688,0.08020...|0.077083|0.08579686771765538|\n",
      "|1997-06-19|[0.075521,0.07656...|0.075521|0.08410304526787288|\n",
      "|1997-06-27|[0.075781,0.07578...|0.074479|0.08247027247162975|\n",
      "|1997-06-30|[0.075521,0.07994...|0.077083|0.08613837908866005|\n",
      "|1997-07-11|[0.126042,0.12604...|0.114583|0.12193546758405585|\n",
      "|1997-07-17|[0.117188,0.11718...|0.110938|0.11796261138537718|\n",
      "|1997-07-31|[0.121875,0.12187...|0.119792|0.12589821621306624|\n",
      "|1997-08-01|[0.117188,0.12083...|0.120833|0.12468656683256488|\n",
      "|1997-08-04|[0.11875,0.120573...|0.115625|0.12552757484301436|\n",
      "|1997-08-14|[0.108854,0.1125,...|0.107813|0.11778104406904903|\n",
      "|1997-08-18|[0.102604,0.10260...|0.102083| 0.1074506646666642|\n",
      "|1997-08-22|[0.105208,0.10625...| 0.10625|0.11377470285558343|\n",
      "|1997-08-29|[0.118229,0.11875...|0.116927| 0.1251307606738044|\n",
      "|1997-09-22|[0.2,0.233854,0.1...|   0.225|0.23449899412204145|\n",
      "|1997-09-24|[0.232292,0.24062...| 0.21875|0.23351362235735923|\n",
      "|1997-09-25|[0.217188,0.21770...|0.203906|0.21428172503731632|\n",
      "|1997-09-26|[0.203646,0.21302...|0.208333| 0.2187637939453712|\n",
      "|1997-09-29|[0.207292,0.20937...|0.202083|0.20977042245964947|\n",
      "|1997-09-30|[0.2,0.217448,0.1...|0.216927|0.21500480778029513|\n",
      "+----------+--------------------+--------+-------------------+\n",
      "only showing top 20 rows\n",
      "\n"
     ]
    }
   ],
   "source": [
    "from pyspark.ml.regression import LinearRegressionModel\n",
    "lrModel=LinearRegressionModel.load(\"G:/avocado\")\n",
    "final_output=lrModel.transform(test_data)\n",
    "final_output.show()"
   ]
  },
  {
   "cell_type": "code",
   "execution_count": null,
   "metadata": {},
   "outputs": [],
   "source": []
  }
 ],
 "metadata": {
  "kernelspec": {
   "display_name": "Python 3 (ipykernel)",
   "language": "python",
   "name": "python3"
  },
  "language_info": {
   "codemirror_mode": {
    "name": "ipython",
    "version": 3
   },
   "file_extension": ".py",
   "mimetype": "text/x-python",
   "name": "python",
   "nbconvert_exporter": "python",
   "pygments_lexer": "ipython3",
   "version": "3.11.5"
  }
 },
 "nbformat": 4,
 "nbformat_minor": 2
}
