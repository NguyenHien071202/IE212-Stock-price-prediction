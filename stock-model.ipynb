{
 "cells": [
  {
   "cell_type": "code",
   "execution_count": 9,
   "metadata": {},
   "outputs": [],
   "source": [
    "from pyspark.sql import SparkSession\n",
    "from pyspark.sql.functions import col, count, isnan, when\n",
    "spark = SparkSession.builder.appName('Stock Data').getOrCreate()"
   ]
  },
  {
   "cell_type": "markdown",
   "metadata": {},
   "source": [
    "Loading file in dataframe"
   ]
  },
  {
   "cell_type": "code",
   "execution_count": 10,
   "metadata": {},
   "outputs": [],
   "source": [
    "dataset = spark.read.csv('./AMZN_data.csv', inferSchema=True, header=True)"
   ]
  },
  {
   "cell_type": "code",
   "execution_count": 11,
   "metadata": {},
   "outputs": [
    {
     "data": {
      "text/plain": [
       "['Date', 'Open', 'High', 'Low', 'Close', 'Adj Close', 'Volume']"
      ]
     },
     "execution_count": 11,
     "metadata": {},
     "output_type": "execute_result"
    }
   ],
   "source": [
    "dataset.columns"
   ]
  },
  {
   "cell_type": "code",
   "execution_count": 12,
   "metadata": {},
   "outputs": [
    {
     "name": "stdout",
     "output_type": "stream",
     "text": [
      "root\n",
      " |-- Date: date (nullable = true)\n",
      " |-- Open: double (nullable = true)\n",
      " |-- High: double (nullable = true)\n",
      " |-- Low: double (nullable = true)\n",
      " |-- Close: double (nullable = true)\n",
      " |-- Adj Close: double (nullable = true)\n",
      " |-- Volume: integer (nullable = true)\n",
      "\n"
     ]
    }
   ],
   "source": [
    "dataset.printSchema()"
   ]
  },
  {
   "cell_type": "code",
   "execution_count": 13,
   "metadata": {},
   "outputs": [
    {
     "name": "stdout",
     "output_type": "stream",
     "text": [
      "+----------+--------+--------+--------+--------+---------+----------+\n",
      "|      Date|    Open|    High|     Low|   Close|Adj Close|    Volume|\n",
      "+----------+--------+--------+--------+--------+---------+----------+\n",
      "|1997-05-15|0.121875|   0.125|0.096354|0.097917| 0.097917|1443120000|\n",
      "|1997-05-16|0.098438|0.098958|0.085417|0.086458| 0.086458| 294000000|\n",
      "|1997-05-19|0.088021|0.088542| 0.08125|0.085417| 0.085417| 122136000|\n",
      "|1997-05-20|0.086458|  0.0875|0.081771|0.081771| 0.081771| 109344000|\n",
      "|1997-05-21|0.081771|0.082292| 0.06875|0.071354| 0.071354| 377064000|\n",
      "|1997-05-22|0.071875|0.072396|0.065625|0.069792| 0.069792| 235536000|\n",
      "|1997-05-23|0.070313|0.076042|0.066667|   0.075|    0.075| 318744000|\n",
      "|1997-05-27|0.075521|0.082292|0.072917|0.079167| 0.079167| 173952000|\n",
      "|1997-05-28| 0.08125|0.081771|0.076563|0.076563| 0.076563|  91488000|\n",
      "|1997-05-29|0.077083|0.077083|0.073958| 0.07526|  0.07526|  69456000|\n",
      "|1997-05-30|   0.075|0.075521|0.073958|   0.075|    0.075|  51888000|\n",
      "|1997-06-02|0.075521|0.076563|   0.075|0.075521| 0.075521|  11832000|\n",
      "|1997-06-03|0.076563|0.076563|0.073958|0.073958| 0.073958|  23664000|\n",
      "|1997-06-04|0.073958|0.074479|0.069792|0.070833| 0.070833|  61608000|\n",
      "|1997-06-05|0.070833|0.077083| 0.06875|0.077083| 0.077083| 113448000|\n",
      "|1997-06-06|0.075781|0.085417|0.075521|0.082813| 0.082813| 156144000|\n",
      "|1997-06-09|0.082813|0.085417|0.082813|0.084375| 0.084375|  47040000|\n",
      "|1997-06-10|0.085417|0.085417|0.076563|0.079167| 0.079167| 109176000|\n",
      "|1997-06-11|0.079688|0.080208|0.076563|0.077083| 0.077083|  23760000|\n",
      "|1997-06-12|0.079167|0.082292|0.077604|0.080208| 0.080208|  32640000|\n",
      "+----------+--------+--------+--------+--------+---------+----------+\n",
      "only showing top 20 rows\n",
      "\n"
     ]
    }
   ],
   "source": [
    "dataset.show()"
   ]
  },
  {
   "cell_type": "code",
   "execution_count": 14,
   "metadata": {},
   "outputs": [
    {
     "name": "stdout",
     "output_type": "stream",
     "text": [
      "+----+----+----+---+-----+---------+------+\n",
      "|Date|Open|High|Low|Close|Adj Close|Volume|\n",
      "+----+----+----+---+-----+---------+------+\n",
      "|   0|   0|   0|  0|    0|        0|     0|\n",
      "+----+----+----+---+-----+---------+------+\n",
      "\n"
     ]
    }
   ],
   "source": [
    "null_checks = [count(when(col(c).isNull(), c)).alias(c) for c in dataset.columns]\n",
    "dataset.select(null_checks).show()"
   ]
  },
  {
   "cell_type": "code",
   "execution_count": 15,
   "metadata": {},
   "outputs": [],
   "source": [
    "from pyspark.ml.linalg import Vector\n",
    "from pyspark.ml.feature import VectorAssembler"
   ]
  },
  {
   "cell_type": "code",
   "execution_count": 16,
   "metadata": {},
   "outputs": [],
   "source": [
    "featureassembler=VectorAssembler(inputCols=[\"Open\", \"High\", \"Low\"], outputCol='Features')"
   ]
  },
  {
   "cell_type": "code",
   "execution_count": 17,
   "metadata": {},
   "outputs": [],
   "source": [
    "output=featureassembler.transform(dataset)"
   ]
  },
  {
   "cell_type": "code",
   "execution_count": 18,
   "metadata": {},
   "outputs": [
    {
     "name": "stdout",
     "output_type": "stream",
     "text": [
      "+----------+--------+--------+--------+--------+---------+----------+--------------------+\n",
      "|      Date|    Open|    High|     Low|   Close|Adj Close|    Volume|            Features|\n",
      "+----------+--------+--------+--------+--------+---------+----------+--------------------+\n",
      "|1997-05-15|0.121875|   0.125|0.096354|0.097917| 0.097917|1443120000|[0.121875,0.125,0...|\n",
      "|1997-05-16|0.098438|0.098958|0.085417|0.086458| 0.086458| 294000000|[0.098438,0.09895...|\n",
      "|1997-05-19|0.088021|0.088542| 0.08125|0.085417| 0.085417| 122136000|[0.088021,0.08854...|\n",
      "|1997-05-20|0.086458|  0.0875|0.081771|0.081771| 0.081771| 109344000|[0.086458,0.0875,...|\n",
      "|1997-05-21|0.081771|0.082292| 0.06875|0.071354| 0.071354| 377064000|[0.081771,0.08229...|\n",
      "|1997-05-22|0.071875|0.072396|0.065625|0.069792| 0.069792| 235536000|[0.071875,0.07239...|\n",
      "|1997-05-23|0.070313|0.076042|0.066667|   0.075|    0.075| 318744000|[0.070313,0.07604...|\n",
      "|1997-05-27|0.075521|0.082292|0.072917|0.079167| 0.079167| 173952000|[0.075521,0.08229...|\n",
      "|1997-05-28| 0.08125|0.081771|0.076563|0.076563| 0.076563|  91488000|[0.08125,0.081771...|\n",
      "|1997-05-29|0.077083|0.077083|0.073958| 0.07526|  0.07526|  69456000|[0.077083,0.07708...|\n",
      "|1997-05-30|   0.075|0.075521|0.073958|   0.075|    0.075|  51888000|[0.075,0.075521,0...|\n",
      "|1997-06-02|0.075521|0.076563|   0.075|0.075521| 0.075521|  11832000|[0.075521,0.07656...|\n",
      "|1997-06-03|0.076563|0.076563|0.073958|0.073958| 0.073958|  23664000|[0.076563,0.07656...|\n",
      "|1997-06-04|0.073958|0.074479|0.069792|0.070833| 0.070833|  61608000|[0.073958,0.07447...|\n",
      "|1997-06-05|0.070833|0.077083| 0.06875|0.077083| 0.077083| 113448000|[0.070833,0.07708...|\n",
      "|1997-06-06|0.075781|0.085417|0.075521|0.082813| 0.082813| 156144000|[0.075781,0.08541...|\n",
      "|1997-06-09|0.082813|0.085417|0.082813|0.084375| 0.084375|  47040000|[0.082813,0.08541...|\n",
      "|1997-06-10|0.085417|0.085417|0.076563|0.079167| 0.079167| 109176000|[0.085417,0.08541...|\n",
      "|1997-06-11|0.079688|0.080208|0.076563|0.077083| 0.077083|  23760000|[0.079688,0.08020...|\n",
      "|1997-06-12|0.079167|0.082292|0.077604|0.080208| 0.080208|  32640000|[0.079167,0.08229...|\n",
      "+----------+--------+--------+--------+--------+---------+----------+--------------------+\n",
      "only showing top 20 rows\n",
      "\n"
     ]
    }
   ],
   "source": [
    "output.show()"
   ]
  },
  {
   "cell_type": "code",
   "execution_count": 19,
   "metadata": {},
   "outputs": [
    {
     "name": "stdout",
     "output_type": "stream",
     "text": [
      "+--------------------+\n",
      "|            Features|\n",
      "+--------------------+\n",
      "|[0.121875,0.125,0...|\n",
      "|[0.098438,0.09895...|\n",
      "|[0.088021,0.08854...|\n",
      "|[0.086458,0.0875,...|\n",
      "|[0.081771,0.08229...|\n",
      "|[0.071875,0.07239...|\n",
      "|[0.070313,0.07604...|\n",
      "|[0.075521,0.08229...|\n",
      "|[0.08125,0.081771...|\n",
      "|[0.077083,0.07708...|\n",
      "|[0.075,0.075521,0...|\n",
      "|[0.075521,0.07656...|\n",
      "|[0.076563,0.07656...|\n",
      "|[0.073958,0.07447...|\n",
      "|[0.070833,0.07708...|\n",
      "|[0.075781,0.08541...|\n",
      "|[0.082813,0.08541...|\n",
      "|[0.085417,0.08541...|\n",
      "|[0.079688,0.08020...|\n",
      "|[0.079167,0.08229...|\n",
      "+--------------------+\n",
      "only showing top 20 rows\n",
      "\n"
     ]
    }
   ],
   "source": [
    "output.select(['Features']).show()"
   ]
  },
  {
   "cell_type": "code",
   "execution_count": 20,
   "metadata": {},
   "outputs": [
    {
     "data": {
      "text/plain": [
       "['Date', 'Open', 'High', 'Low', 'Close', 'Adj Close', 'Volume', 'Features']"
      ]
     },
     "execution_count": 20,
     "metadata": {},
     "output_type": "execute_result"
    }
   ],
   "source": [
    "output.columns"
   ]
  },
  {
   "cell_type": "code",
   "execution_count": 21,
   "metadata": {},
   "outputs": [],
   "source": [
    "final_data=output.select(\"Date\", \"Features\", \"Close\").sort(\"Date\", ascending=True)"
   ]
  },
  {
   "cell_type": "code",
   "execution_count": 22,
   "metadata": {},
   "outputs": [
    {
     "name": "stdout",
     "output_type": "stream",
     "text": [
      "+----------+--------------------+--------+\n",
      "|      Date|            Features|   Close|\n",
      "+----------+--------------------+--------+\n",
      "|1997-05-15|[0.121875,0.125,0...|0.097917|\n",
      "|1997-05-16|[0.098438,0.09895...|0.086458|\n",
      "|1997-05-19|[0.088021,0.08854...|0.085417|\n",
      "|1997-05-20|[0.086458,0.0875,...|0.081771|\n",
      "|1997-05-21|[0.081771,0.08229...|0.071354|\n",
      "|1997-05-22|[0.071875,0.07239...|0.069792|\n",
      "|1997-05-23|[0.070313,0.07604...|   0.075|\n",
      "|1997-05-27|[0.075521,0.08229...|0.079167|\n",
      "|1997-05-28|[0.08125,0.081771...|0.076563|\n",
      "|1997-05-29|[0.077083,0.07708...| 0.07526|\n",
      "|1997-05-30|[0.075,0.075521,0...|   0.075|\n",
      "|1997-06-02|[0.075521,0.07656...|0.075521|\n",
      "|1997-06-03|[0.076563,0.07656...|0.073958|\n",
      "|1997-06-04|[0.073958,0.07447...|0.070833|\n",
      "|1997-06-05|[0.070833,0.07708...|0.077083|\n",
      "|1997-06-06|[0.075781,0.08541...|0.082813|\n",
      "|1997-06-09|[0.082813,0.08541...|0.084375|\n",
      "|1997-06-10|[0.085417,0.08541...|0.079167|\n",
      "|1997-06-11|[0.079688,0.08020...|0.077083|\n",
      "|1997-06-12|[0.079167,0.08229...|0.080208|\n",
      "+----------+--------------------+--------+\n",
      "only showing top 20 rows\n",
      "\n"
     ]
    }
   ],
   "source": [
    "final_data.show()"
   ]
  },
  {
   "cell_type": "code",
   "execution_count": 23,
   "metadata": {},
   "outputs": [
    {
     "name": "stdout",
     "output_type": "stream",
     "text": [
      "There are 5018 rows in the trainning set,\n",
      "      and 1696 in the test set\n"
     ]
    }
   ],
   "source": [
    "train_data, test_data=final_data.randomSplit([0.75,0.25])\n",
    "print(f\"\"\"There are {train_data.count()} rows in the trainning set,\n",
    "      and {test_data.count()} in the test set\"\"\")"
   ]
  },
  {
   "cell_type": "markdown",
   "metadata": {},
   "source": [
    "Linear Regression model"
   ]
  },
  {
   "cell_type": "code",
   "execution_count": 24,
   "metadata": {},
   "outputs": [],
   "source": [
    "from pyspark.ml.regression import LinearRegression"
   ]
  },
  {
   "cell_type": "code",
   "execution_count": 25,
   "metadata": {},
   "outputs": [],
   "source": [
    "regressor=LinearRegression(featuresCol='Features', labelCol='Close')\n",
    "lr_model=regressor.fit(train_data)"
   ]
  },
  {
   "cell_type": "code",
   "execution_count": 26,
   "metadata": {},
   "outputs": [
    {
     "data": {
      "text/plain": [
       "DenseVector([-0.6612, 0.8361, 0.8252])"
      ]
     },
     "execution_count": 26,
     "metadata": {},
     "output_type": "execute_result"
    }
   ],
   "source": [
    "lr_model.coefficients"
   ]
  },
  {
   "cell_type": "code",
   "execution_count": 27,
   "metadata": {},
   "outputs": [
    {
     "data": {
      "text/plain": [
       "0.00953816848002867"
      ]
     },
     "execution_count": 27,
     "metadata": {},
     "output_type": "execute_result"
    }
   ],
   "source": [
    "lr_model.intercept"
   ]
  },
  {
   "cell_type": "code",
   "execution_count": 28,
   "metadata": {},
   "outputs": [
    {
     "name": "stdout",
     "output_type": "stream",
     "text": [
      "+--------------------+--------+-------------------+\n",
      "|            Features|   Close|         Prediction|\n",
      "+--------------------+--------+-------------------+\n",
      "|[0.081771,0.08229...|0.071354|0.08100411345636589|\n",
      "|[0.075521,0.07656...|0.075521|0.08550469448019565|\n",
      "|[0.076563,0.07656...|0.073958|0.08395580883221324|\n",
      "|[0.075781,0.08541...|0.082813|0.09316515179909393|\n",
      "|[0.079688,0.08020...|0.077083| 0.0870866168070532|\n",
      "|[0.079167,0.08229...|0.080208|0.09003251721480399|\n",
      "|[0.07526,0.076302...|0.075521|0.08459917641341543|\n",
      "|[0.079948,0.09583...|0.095573|0.10255689771471595|\n",
      "|[0.091667,0.10104...|     0.1|0.10904840533121196|\n",
      "|[0.110938,0.1125,...|0.111458|0.12178840379724376|\n",
      "|[0.11875,0.120573...|0.115625| 0.1268102771066299|\n",
      "|[0.116667,0.11666...|0.110417|0.11847529774122917|\n",
      "|[0.108333,0.11510...|0.114583|0.12095942869039668|\n",
      "|[0.106771,0.10859...|0.105729| 0.1152605388622858|\n",
      "|[0.105208,0.10625...| 0.10625|0.11519421018329762|\n",
      "|[0.118229,0.12760...|0.127604|0.13475285532835632|\n",
      "|[0.126563,0.15104...|    0.15|0.15528433777348336|\n",
      "|[0.2,0.233854,0.1...|   0.225| 0.2357044740187546|\n",
      "|[0.217188,0.21770...|0.203906|0.21513815685098434|\n",
      "|[0.221875,0.225,0...|0.201042|0.21340777074051082|\n",
      "+--------------------+--------+-------------------+\n",
      "only showing top 20 rows\n",
      "\n"
     ]
    }
   ],
   "source": [
    "pred=lr_model.transform(test_data)\n",
    "pred.select(\"Features\", \"Close\", \"Prediction\").show()"
   ]
  },
  {
   "cell_type": "code",
   "execution_count": 29,
   "metadata": {},
   "outputs": [],
   "source": [
    "from pyspark.ml.evaluation import RegressionEvaluator"
   ]
  },
  {
   "cell_type": "code",
   "execution_count": 30,
   "metadata": {},
   "outputs": [
    {
     "name": "stdout",
     "output_type": "stream",
     "text": [
      "MSE:  0.21715850794696787 \n",
      "r2:  0.999918530736354 \n",
      "\n"
     ]
    }
   ],
   "source": [
    "evaluator = RegressionEvaluator(predictionCol=\"prediction\", labelCol=\"Close\", metricName=\"mse\")\n",
    "mse = evaluator.evaluate(pred)\n",
    "evaluator_r2 = RegressionEvaluator(predictionCol=\"prediction\", labelCol=\"Close\", metricName=\"r2\")\n",
    "r2 = evaluator_r2.evaluate(pred)\n",
    "print('MSE: ', mse, '\\n' + 'r2: ', r2, '\\n')"
   ]
  },
  {
   "cell_type": "markdown",
   "metadata": {},
   "source": [
    "Random Forest Regressor model"
   ]
  },
  {
   "cell_type": "code",
   "execution_count": 31,
   "metadata": {},
   "outputs": [],
   "source": [
    "from pyspark.ml.regression import RandomForestRegressor"
   ]
  },
  {
   "cell_type": "code",
   "execution_count": 32,
   "metadata": {},
   "outputs": [],
   "source": [
    "rf=RandomForestRegressor(featuresCol='Features', labelCol='Close')\n",
    "rf_model=rf.fit(train_data)"
   ]
  },
  {
   "cell_type": "code",
   "execution_count": 33,
   "metadata": {},
   "outputs": [
    {
     "name": "stdout",
     "output_type": "stream",
     "text": [
      "+--------------------+--------+------------------+\n",
      "|            Features|   Close|        Prediction|\n",
      "+--------------------+--------+------------------+\n",
      "|[0.081771,0.08229...|0.071354|0.6639007299870652|\n",
      "|[0.075521,0.07656...|0.075521|0.6639007299870652|\n",
      "|[0.076563,0.07656...|0.073958|0.6639007299870652|\n",
      "|[0.075781,0.08541...|0.082813|0.6639007299870652|\n",
      "|[0.079688,0.08020...|0.077083|0.6639007299870652|\n",
      "|[0.079167,0.08229...|0.080208|0.6639007299870652|\n",
      "|[0.07526,0.076302...|0.075521|0.6639007299870652|\n",
      "|[0.079948,0.09583...|0.095573|0.6639007299870652|\n",
      "|[0.091667,0.10104...|     0.1|0.6639007299870652|\n",
      "|[0.110938,0.1125,...|0.111458|0.6639007299870652|\n",
      "|[0.11875,0.120573...|0.115625|0.6639007299870652|\n",
      "|[0.116667,0.11666...|0.110417|0.6639007299870652|\n",
      "|[0.108333,0.11510...|0.114583|0.6639007299870652|\n",
      "|[0.106771,0.10859...|0.105729|0.6639007299870652|\n",
      "|[0.105208,0.10625...| 0.10625|0.6639007299870652|\n",
      "|[0.118229,0.12760...|0.127604|0.6639007299870652|\n",
      "|[0.126563,0.15104...|    0.15|0.6639007299870652|\n",
      "|[0.2,0.233854,0.1...|   0.225|0.6639007299870652|\n",
      "|[0.217188,0.21770...|0.203906|0.6639007299870652|\n",
      "|[0.221875,0.225,0...|0.201042|0.6639007299870652|\n",
      "+--------------------+--------+------------------+\n",
      "only showing top 20 rows\n",
      "\n"
     ]
    }
   ],
   "source": [
    "pred2=rf_model.transform(test_data)\n",
    "pred2.select(\"Features\", \"Close\", \"Prediction\").show()"
   ]
  },
  {
   "cell_type": "code",
   "execution_count": 34,
   "metadata": {},
   "outputs": [
    {
     "name": "stdout",
     "output_type": "stream",
     "text": [
      "MSE:  7.425998751450898 \n",
      "r2:  0.9972140596477809 \n",
      "\n"
     ]
    }
   ],
   "source": [
    "mse = evaluator.evaluate(pred2)\n",
    "r2 = evaluator_r2.evaluate(pred2)\n",
    "print('MSE: ', mse, '\\n' + 'r2: ', r2, '\\n')"
   ]
  },
  {
   "cell_type": "markdown",
   "metadata": {},
   "source": [
    "Gradient-Boosted Tree Regression"
   ]
  },
  {
   "cell_type": "code",
   "execution_count": 35,
   "metadata": {},
   "outputs": [],
   "source": [
    "from pyspark.ml.regression import GBTRegressor"
   ]
  },
  {
   "cell_type": "code",
   "execution_count": 36,
   "metadata": {},
   "outputs": [],
   "source": [
    "gbt = GBTRegressor(featuresCol='Features', labelCol='Close', maxIter=10)\n",
    "gbt_model = gbt.fit(train_data)"
   ]
  },
  {
   "cell_type": "code",
   "execution_count": 37,
   "metadata": {},
   "outputs": [
    {
     "name": "stdout",
     "output_type": "stream",
     "text": [
      "+----------------------------+--------+------------------+\n",
      "|Features                    |Close   |Prediction        |\n",
      "+----------------------------+--------+------------------+\n",
      "|[0.081771,0.082292,0.06875] |0.071354|0.2717314539083288|\n",
      "|[0.075521,0.076563,0.075]   |0.075521|0.2717314539083288|\n",
      "|[0.076563,0.076563,0.073958]|0.073958|0.2717314539083288|\n",
      "|[0.075781,0.085417,0.075521]|0.082813|0.2717314539083288|\n",
      "|[0.079688,0.080208,0.076563]|0.077083|0.2717314539083288|\n",
      "|[0.079167,0.082292,0.077604]|0.080208|0.2717314539083288|\n",
      "|[0.07526,0.076302,0.073958] |0.075521|0.2717314539083288|\n",
      "|[0.079948,0.095833,0.079688]|0.095573|0.2717314539083288|\n",
      "|[0.091667,0.101042,0.091667]|0.1     |0.2717314539083288|\n",
      "|[0.110938,0.1125,0.110938]  |0.111458|0.2717314539083288|\n",
      "|[0.11875,0.120573,0.115104] |0.115625|0.2717314539083288|\n",
      "|[0.116667,0.116667,0.107292]|0.110417|0.2717314539083288|\n",
      "|[0.108333,0.115104,0.105208]|0.114583|0.2717314539083288|\n",
      "|[0.106771,0.108594,0.103646]|0.105729|0.2717314539083288|\n",
      "|[0.105208,0.10625,0.104688] |0.10625 |0.2717314539083288|\n",
      "|[0.118229,0.127604,0.117188]|0.127604|0.2717314539083288|\n",
      "|[0.126563,0.151042,0.125]   |0.15    |0.2717314539083288|\n",
      "|[0.2,0.233854,0.197396]     |0.225   |0.2717314539083288|\n",
      "|[0.217188,0.217708,0.202604]|0.203906|0.2717314539083288|\n",
      "|[0.221875,0.225,0.196875]   |0.201042|0.2717314539083288|\n",
      "+----------------------------+--------+------------------+\n",
      "only showing top 20 rows\n",
      "\n"
     ]
    }
   ],
   "source": [
    "pred3=gbt_model.transform(test_data)\n",
    "pred3.select(\"Features\", \"Close\", \"Prediction\").show(truncate=False)"
   ]
  },
  {
   "cell_type": "code",
   "execution_count": 38,
   "metadata": {},
   "outputs": [
    {
     "name": "stdout",
     "output_type": "stream",
     "text": [
      "MSE:  7.5663666284977245 \n",
      "r2:  0.9971613991847363 \n",
      "\n"
     ]
    }
   ],
   "source": [
    "mse = evaluator.evaluate(pred3)\n",
    "r2 = evaluator_r2.evaluate(pred3)\n",
    "print('MSE: ', mse, '\\n' + 'r2: ', r2, '\\n')"
   ]
  },
  {
   "cell_type": "markdown",
   "metadata": {},
   "source": [
    "Linear Regression model"
   ]
  },
  {
   "cell_type": "code",
   "execution_count": 39,
   "metadata": {},
   "outputs": [],
   "source": [
    "pandas_df = pred.select(\"Close\", \"Prediction\").toPandas()"
   ]
  },
  {
   "cell_type": "code",
   "execution_count": 40,
   "metadata": {},
   "outputs": [
    {
     "data": {
      "image/png": "[encoded data removed]",
      "text/plain": [
       "<Figure size 1000x600 with 1 Axes>"
      ]
     },
     "metadata": {},
     "output_type": "display_data"
    }
   ],
   "source": [
    "import matplotlib.pyplot as plt\n",
    "\n",
    "plt.figure(figsize=(10, 6))\n",
    "plt.plot(pandas_df['Close'], label='Actual')\n",
    "plt.plot(pandas_df['Prediction'], label='Prediction')\n",
    "plt.legend()\n",
    "plt.show()"
   ]
  },
  {
   "cell_type": "code",
   "execution_count": 46,
   "metadata": {},
   "outputs": [],
   "source": [
    "lr_model.write().overwrite().save(\"D:\\Year_3\\Bigdata\\Đồ án\\IE212-Stock-price-prediction\\Saved model\")"
   ]
  },
  {
   "cell_type": "code",
   "execution_count": 47,
   "metadata": {},
   "outputs": [
    {
     "ename": "Py4JJavaError",
     "evalue": "An error occurred while calling o751.load.\n: java.lang.UnsatisfiedLinkError: org.apache.hadoop.io.nativeio.NativeIO$POSIX.stat(Ljava/lang/String;)Lorg/apache/hadoop/io/nativeio/NativeIO$POSIX$Stat;\r\n\tat org.apache.hadoop.io.nativeio.NativeIO$POSIX.stat(Native Method)\r\n\tat org.apache.hadoop.io.nativeio.NativeIO$POSIX.getStat(NativeIO.java:608)\r\n\tat org.apache.hadoop.fs.RawLocalFileSystem$DeprecatedRawLocalFileStatus.loadPermissionInfoByNativeIO(RawLocalFileSystem.java:934)\r\n\tat org.apache.hadoop.fs.RawLocalFileSystem$DeprecatedRawLocalFileStatus.loadPermissionInfo(RawLocalFileSystem.java:848)\r\n\tat org.apache.hadoop.fs.RawLocalFileSystem$DeprecatedRawLocalFileStatus.getPermission(RawLocalFileSystem.java:816)\r\n\tat org.apache.hadoop.fs.LocatedFileStatus.<init>(LocatedFileStatus.java:52)\r\n\tat org.apache.hadoop.fs.FileSystem$4.next(FileSystem.java:2199)\r\n\tat org.apache.hadoop.fs.FileSystem$4.next(FileSystem.java:2179)\r\n\tat org.apache.hadoop.mapred.FileInputFormat.singleThreadedListStatus(FileInputFormat.java:287)\r\n\tat org.apache.hadoop.mapred.FileInputFormat.listStatus(FileInputFormat.java:244)\r\n\tat org.apache.hadoop.mapred.FileInputFormat.getSplits(FileInputFormat.java:332)\r\n\tat org.apache.spark.rdd.HadoopRDD.getPartitions(HadoopRDD.scala:208)\r\n\tat org.apache.spark.rdd.RDD.$anonfun$partitions$2(RDD.scala:291)\r\n\tat scala.Option.getOrElse(Option.scala:189)\r\n\tat org.apache.spark.rdd.RDD.partitions(RDD.scala:287)\r\n\tat org.apache.spark.rdd.MapPartitionsRDD.getPartitions(MapPartitionsRDD.scala:49)\r\n\tat org.apache.spark.rdd.RDD.$anonfun$partitions$2(RDD.scala:291)\r\n\tat scala.Option.getOrElse(Option.scala:189)\r\n\tat org.apache.spark.rdd.RDD.partitions(RDD.scala:287)\r\n\tat org.apache.spark.rdd.RDD.$anonfun$take$1(RDD.scala:1468)\r\n\tat org.apache.spark.rdd.RDDOperationScope$.withScope(RDDOperationScope.scala:151)\r\n\tat org.apache.spark.rdd.RDDOperationScope$.withScope(RDDOperationScope.scala:112)\r\n\tat org.apache.spark.rdd.RDD.withScope(RDD.scala:407)\r\n\tat org.apache.spark.rdd.RDD.take(RDD.scala:1462)\r\n\tat org.apache.spark.rdd.RDD.$anonfun$first$1(RDD.scala:1503)\r\n\tat org.apache.spark.rdd.RDDOperationScope$.withScope(RDDOperationScope.scala:151)\r\n\tat org.apache.spark.rdd.RDDOperationScope$.withScope(RDDOperationScope.scala:112)\r\n\tat org.apache.spark.rdd.RDD.withScope(RDD.scala:407)\r\n\tat org.apache.spark.rdd.RDD.first(RDD.scala:1503)\r\n\tat org.apache.spark.ml.util.DefaultParamsReader$.loadMetadata(ReadWrite.scala:587)\r\n\tat org.apache.spark.ml.regression.LinearRegressionModel$LinearRegressionModelReader.load(LinearRegression.scala:830)\r\n\tat sun.reflect.NativeMethodAccessorImpl.invoke0(Native Method)\r\n\tat sun.reflect.NativeMethodAccessorImpl.invoke(NativeMethodAccessorImpl.java:62)\r\n\tat sun.reflect.DelegatingMethodAccessorImpl.invoke(DelegatingMethodAccessorImpl.java:43)\r\n\tat java.lang.reflect.Method.invoke(Method.java:498)\r\n\tat py4j.reflection.MethodInvoker.invoke(MethodInvoker.java:244)\r\n\tat py4j.reflection.ReflectionEngine.invoke(ReflectionEngine.java:374)\r\n\tat py4j.Gateway.invoke(Gateway.java:282)\r\n\tat py4j.commands.AbstractCommand.invokeMethod(AbstractCommand.java:132)\r\n\tat py4j.commands.CallCommand.execute(CallCommand.java:79)\r\n\tat py4j.ClientServerConnection.waitForCommands(ClientServerConnection.java:182)\r\n\tat py4j.ClientServerConnection.run(ClientServerConnection.java:106)\r\n\tat java.lang.Thread.run(Thread.java:750)\r\n",
     "output_type": "error",
     "traceback": [
      "\u001b[1;31m---------------------------------------------------------------------------\u001b[0m",
      "\u001b[1;31mPy4JJavaError\u001b[0m                             Traceback (most recent call last)",
      "Cell \u001b[1;32mIn[47], line 2\u001b[0m\n\u001b[0;32m      1\u001b[0m \u001b[38;5;28;01mfrom\u001b[39;00m \u001b[38;5;21;01mpyspark\u001b[39;00m\u001b[38;5;21;01m.\u001b[39;00m\u001b[38;5;21;01mml\u001b[39;00m\u001b[38;5;21;01m.\u001b[39;00m\u001b[38;5;21;01mregression\u001b[39;00m \u001b[38;5;28;01mimport\u001b[39;00m LinearRegressionModel\n\u001b[1;32m----> 2\u001b[0m lrModel\u001b[38;5;241m=\u001b[39mLinearRegressionModel\u001b[38;5;241m.\u001b[39mload(\u001b[38;5;124m\"\u001b[39m\u001b[38;5;124mD:\u001b[39m\u001b[38;5;124m\\\u001b[39m\u001b[38;5;124mYear_3\u001b[39m\u001b[38;5;124m\\\u001b[39m\u001b[38;5;124mBigdata\u001b[39m\u001b[38;5;124m\\\u001b[39m\u001b[38;5;124mĐồ án\u001b[39m\u001b[38;5;124m\\\u001b[39m\u001b[38;5;124mIE212-Stock-price-prediction\u001b[39m\u001b[38;5;124m\\\u001b[39m\u001b[38;5;124mSaved model\u001b[39m\u001b[38;5;124m\"\u001b[39m)\n\u001b[0;32m      3\u001b[0m final_output\u001b[38;5;241m=\u001b[39mlrModel\u001b[38;5;241m.\u001b[39mtransform(test_data)\n\u001b[0;32m      4\u001b[0m final_output\u001b[38;5;241m.\u001b[39mshow()\n",
      "File \u001b[1;32md:\\ANACONDA\\Lib\\site-packages\\pyspark\\ml\\util.py:369\u001b[0m, in \u001b[0;36mMLReadable.load\u001b[1;34m(cls, path)\u001b[0m\n\u001b[0;32m    366\u001b[0m \u001b[38;5;129m@classmethod\u001b[39m\n\u001b[0;32m    367\u001b[0m \u001b[38;5;28;01mdef\u001b[39;00m \u001b[38;5;21mload\u001b[39m(\u001b[38;5;28mcls\u001b[39m, path: \u001b[38;5;28mstr\u001b[39m) \u001b[38;5;241m-\u001b[39m\u001b[38;5;241m>\u001b[39m RL:\n\u001b[0;32m    368\u001b[0m \u001b[38;5;250m    \u001b[39m\u001b[38;5;124;03m\"\"\"Reads an ML instance from the input path, a shortcut of `read().load(path)`.\"\"\"\u001b[39;00m\n\u001b[1;32m--> 369\u001b[0m     \u001b[38;5;28;01mreturn\u001b[39;00m \u001b[38;5;28mcls\u001b[39m\u001b[38;5;241m.\u001b[39mread()\u001b[38;5;241m.\u001b[39mload(path)\n",
      "File \u001b[1;32md:\\ANACONDA\\Lib\\site-packages\\pyspark\\ml\\util.py:318\u001b[0m, in \u001b[0;36mJavaMLReader.load\u001b[1;34m(self, path)\u001b[0m\n\u001b[0;32m    316\u001b[0m \u001b[38;5;28;01mif\u001b[39;00m \u001b[38;5;129;01mnot\u001b[39;00m \u001b[38;5;28misinstance\u001b[39m(path, \u001b[38;5;28mstr\u001b[39m):\n\u001b[0;32m    317\u001b[0m     \u001b[38;5;28;01mraise\u001b[39;00m \u001b[38;5;167;01mTypeError\u001b[39;00m(\u001b[38;5;124m\"\u001b[39m\u001b[38;5;124mpath should be a string, got type \u001b[39m\u001b[38;5;132;01m%s\u001b[39;00m\u001b[38;5;124m\"\u001b[39m \u001b[38;5;241m%\u001b[39m \u001b[38;5;28mtype\u001b[39m(path))\n\u001b[1;32m--> 318\u001b[0m java_obj \u001b[38;5;241m=\u001b[39m \u001b[38;5;28mself\u001b[39m\u001b[38;5;241m.\u001b[39m_jread\u001b[38;5;241m.\u001b[39mload(path)\n\u001b[0;32m    319\u001b[0m \u001b[38;5;28;01mif\u001b[39;00m \u001b[38;5;129;01mnot\u001b[39;00m \u001b[38;5;28mhasattr\u001b[39m(\u001b[38;5;28mself\u001b[39m\u001b[38;5;241m.\u001b[39m_clazz, \u001b[38;5;124m\"\u001b[39m\u001b[38;5;124m_from_java\u001b[39m\u001b[38;5;124m\"\u001b[39m):\n\u001b[0;32m    320\u001b[0m     \u001b[38;5;28;01mraise\u001b[39;00m \u001b[38;5;167;01mNotImplementedError\u001b[39;00m(\n\u001b[0;32m    321\u001b[0m         \u001b[38;5;124m\"\u001b[39m\u001b[38;5;124mThis Java ML type cannot be loaded into Python currently: \u001b[39m\u001b[38;5;132;01m%r\u001b[39;00m\u001b[38;5;124m\"\u001b[39m \u001b[38;5;241m%\u001b[39m \u001b[38;5;28mself\u001b[39m\u001b[38;5;241m.\u001b[39m_clazz\n\u001b[0;32m    322\u001b[0m     )\n",
      "File \u001b[1;32md:\\ANACONDA\\Lib\\site-packages\\py4j\\java_gateway.py:1322\u001b[0m, in \u001b[0;36mJavaMember.__call__\u001b[1;34m(self, *args)\u001b[0m\n\u001b[0;32m   1316\u001b[0m command \u001b[38;5;241m=\u001b[39m proto\u001b[38;5;241m.\u001b[39mCALL_COMMAND_NAME \u001b[38;5;241m+\u001b[39m\\\n\u001b[0;32m   1317\u001b[0m     \u001b[38;5;28mself\u001b[39m\u001b[38;5;241m.\u001b[39mcommand_header \u001b[38;5;241m+\u001b[39m\\\n\u001b[0;32m   1318\u001b[0m     args_command \u001b[38;5;241m+\u001b[39m\\\n\u001b[0;32m   1319\u001b[0m     proto\u001b[38;5;241m.\u001b[39mEND_COMMAND_PART\n\u001b[0;32m   1321\u001b[0m answer \u001b[38;5;241m=\u001b[39m \u001b[38;5;28mself\u001b[39m\u001b[38;5;241m.\u001b[39mgateway_client\u001b[38;5;241m.\u001b[39msend_command(command)\n\u001b[1;32m-> 1322\u001b[0m return_value \u001b[38;5;241m=\u001b[39m get_return_value(\n\u001b[0;32m   1323\u001b[0m     answer, \u001b[38;5;28mself\u001b[39m\u001b[38;5;241m.\u001b[39mgateway_client, \u001b[38;5;28mself\u001b[39m\u001b[38;5;241m.\u001b[39mtarget_id, \u001b[38;5;28mself\u001b[39m\u001b[38;5;241m.\u001b[39mname)\n\u001b[0;32m   1325\u001b[0m \u001b[38;5;28;01mfor\u001b[39;00m temp_arg \u001b[38;5;129;01min\u001b[39;00m temp_args:\n\u001b[0;32m   1326\u001b[0m     \u001b[38;5;28;01mif\u001b[39;00m \u001b[38;5;28mhasattr\u001b[39m(temp_arg, \u001b[38;5;124m\"\u001b[39m\u001b[38;5;124m_detach\u001b[39m\u001b[38;5;124m\"\u001b[39m):\n",
      "File \u001b[1;32md:\\ANACONDA\\Lib\\site-packages\\pyspark\\errors\\exceptions\\captured.py:179\u001b[0m, in \u001b[0;36mcapture_sql_exception.<locals>.deco\u001b[1;34m(*a, **kw)\u001b[0m\n\u001b[0;32m    177\u001b[0m \u001b[38;5;28;01mdef\u001b[39;00m \u001b[38;5;21mdeco\u001b[39m(\u001b[38;5;241m*\u001b[39ma: Any, \u001b[38;5;241m*\u001b[39m\u001b[38;5;241m*\u001b[39mkw: Any) \u001b[38;5;241m-\u001b[39m\u001b[38;5;241m>\u001b[39m Any:\n\u001b[0;32m    178\u001b[0m     \u001b[38;5;28;01mtry\u001b[39;00m:\n\u001b[1;32m--> 179\u001b[0m         \u001b[38;5;28;01mreturn\u001b[39;00m f(\u001b[38;5;241m*\u001b[39ma, \u001b[38;5;241m*\u001b[39m\u001b[38;5;241m*\u001b[39mkw)\n\u001b[0;32m    180\u001b[0m     \u001b[38;5;28;01mexcept\u001b[39;00m Py4JJavaError \u001b[38;5;28;01mas\u001b[39;00m e:\n\u001b[0;32m    181\u001b[0m         converted \u001b[38;5;241m=\u001b[39m convert_exception(e\u001b[38;5;241m.\u001b[39mjava_exception)\n",
      "File \u001b[1;32md:\\ANACONDA\\Lib\\site-packages\\py4j\\protocol.py:326\u001b[0m, in \u001b[0;36mget_return_value\u001b[1;34m(answer, gateway_client, target_id, name)\u001b[0m\n\u001b[0;32m    324\u001b[0m value \u001b[38;5;241m=\u001b[39m OUTPUT_CONVERTER[\u001b[38;5;28mtype\u001b[39m](answer[\u001b[38;5;241m2\u001b[39m:], gateway_client)\n\u001b[0;32m    325\u001b[0m \u001b[38;5;28;01mif\u001b[39;00m answer[\u001b[38;5;241m1\u001b[39m] \u001b[38;5;241m==\u001b[39m REFERENCE_TYPE:\n\u001b[1;32m--> 326\u001b[0m     \u001b[38;5;28;01mraise\u001b[39;00m Py4JJavaError(\n\u001b[0;32m    327\u001b[0m         \u001b[38;5;124m\"\u001b[39m\u001b[38;5;124mAn error occurred while calling \u001b[39m\u001b[38;5;132;01m{0}\u001b[39;00m\u001b[38;5;132;01m{1}\u001b[39;00m\u001b[38;5;132;01m{2}\u001b[39;00m\u001b[38;5;124m.\u001b[39m\u001b[38;5;130;01m\\n\u001b[39;00m\u001b[38;5;124m\"\u001b[39m\u001b[38;5;241m.\u001b[39m\n\u001b[0;32m    328\u001b[0m         \u001b[38;5;28mformat\u001b[39m(target_id, \u001b[38;5;124m\"\u001b[39m\u001b[38;5;124m.\u001b[39m\u001b[38;5;124m\"\u001b[39m, name), value)\n\u001b[0;32m    329\u001b[0m \u001b[38;5;28;01melse\u001b[39;00m:\n\u001b[0;32m    330\u001b[0m     \u001b[38;5;28;01mraise\u001b[39;00m Py4JError(\n\u001b[0;32m    331\u001b[0m         \u001b[38;5;124m\"\u001b[39m\u001b[38;5;124mAn error occurred while calling \u001b[39m\u001b[38;5;132;01m{0}\u001b[39;00m\u001b[38;5;132;01m{1}\u001b[39;00m\u001b[38;5;132;01m{2}\u001b[39;00m\u001b[38;5;124m. Trace:\u001b[39m\u001b[38;5;130;01m\\n\u001b[39;00m\u001b[38;5;132;01m{3}\u001b[39;00m\u001b[38;5;130;01m\\n\u001b[39;00m\u001b[38;5;124m\"\u001b[39m\u001b[38;5;241m.\u001b[39m\n\u001b[0;32m    332\u001b[0m         \u001b[38;5;28mformat\u001b[39m(target_id, \u001b[38;5;124m\"\u001b[39m\u001b[38;5;124m.\u001b[39m\u001b[38;5;124m\"\u001b[39m, name, value))\n",
      "\u001b[1;31mPy4JJavaError\u001b[0m: An error occurred while calling o751.load.\n: java.lang.UnsatisfiedLinkError: org.apache.hadoop.io.nativeio.NativeIO$POSIX.stat(Ljava/lang/String;)Lorg/apache/hadoop/io/nativeio/NativeIO$POSIX$Stat;\r\n\tat org.apache.hadoop.io.nativeio.NativeIO$POSIX.stat(Native Method)\r\n\tat org.apache.hadoop.io.nativeio.NativeIO$POSIX.getStat(NativeIO.java:608)\r\n\tat org.apache.hadoop.fs.RawLocalFileSystem$DeprecatedRawLocalFileStatus.loadPermissionInfoByNativeIO(RawLocalFileSystem.java:934)\r\n\tat org.apache.hadoop.fs.RawLocalFileSystem$DeprecatedRawLocalFileStatus.loadPermissionInfo(RawLocalFileSystem.java:848)\r\n\tat org.apache.hadoop.fs.RawLocalFileSystem$DeprecatedRawLocalFileStatus.getPermission(RawLocalFileSystem.java:816)\r\n\tat org.apache.hadoop.fs.LocatedFileStatus.<init>(LocatedFileStatus.java:52)\r\n\tat org.apache.hadoop.fs.FileSystem$4.next(FileSystem.java:2199)\r\n\tat org.apache.hadoop.fs.FileSystem$4.next(FileSystem.java:2179)\r\n\tat org.apache.hadoop.mapred.FileInputFormat.singleThreadedListStatus(FileInputFormat.java:287)\r\n\tat org.apache.hadoop.mapred.FileInputFormat.listStatus(FileInputFormat.java:244)\r\n\tat org.apache.hadoop.mapred.FileInputFormat.getSplits(FileInputFormat.java:332)\r\n\tat org.apache.spark.rdd.HadoopRDD.getPartitions(HadoopRDD.scala:208)\r\n\tat org.apache.spark.rdd.RDD.$anonfun$partitions$2(RDD.scala:291)\r\n\tat scala.Option.getOrElse(Option.scala:189)\r\n\tat org.apache.spark.rdd.RDD.partitions(RDD.scala:287)\r\n\tat org.apache.spark.rdd.MapPartitionsRDD.getPartitions(MapPartitionsRDD.scala:49)\r\n\tat org.apache.spark.rdd.RDD.$anonfun$partitions$2(RDD.scala:291)\r\n\tat scala.Option.getOrElse(Option.scala:189)\r\n\tat org.apache.spark.rdd.RDD.partitions(RDD.scala:287)\r\n\tat org.apache.spark.rdd.RDD.$anonfun$take$1(RDD.scala:1468)\r\n\tat org.apache.spark.rdd.RDDOperationScope$.withScope(RDDOperationScope.scala:151)\r\n\tat org.apache.spark.rdd.RDDOperationScope$.withScope(RDDOperationScope.scala:112)\r\n\tat org.apache.spark.rdd.RDD.withScope(RDD.scala:407)\r\n\tat org.apache.spark.rdd.RDD.take(RDD.scala:1462)\r\n\tat org.apache.spark.rdd.RDD.$anonfun$first$1(RDD.scala:1503)\r\n\tat org.apache.spark.rdd.RDDOperationScope$.withScope(RDDOperationScope.scala:151)\r\n\tat org.apache.spark.rdd.RDDOperationScope$.withScope(RDDOperationScope.scala:112)\r\n\tat org.apache.spark.rdd.RDD.withScope(RDD.scala:407)\r\n\tat org.apache.spark.rdd.RDD.first(RDD.scala:1503)\r\n\tat org.apache.spark.ml.util.DefaultParamsReader$.loadMetadata(ReadWrite.scala:587)\r\n\tat org.apache.spark.ml.regression.LinearRegressionModel$LinearRegressionModelReader.load(LinearRegression.scala:830)\r\n\tat sun.reflect.NativeMethodAccessorImpl.invoke0(Native Method)\r\n\tat sun.reflect.NativeMethodAccessorImpl.invoke(NativeMethodAccessorImpl.java:62)\r\n\tat sun.reflect.DelegatingMethodAccessorImpl.invoke(DelegatingMethodAccessorImpl.java:43)\r\n\tat java.lang.reflect.Method.invoke(Method.java:498)\r\n\tat py4j.reflection.MethodInvoker.invoke(MethodInvoker.java:244)\r\n\tat py4j.reflection.ReflectionEngine.invoke(ReflectionEngine.java:374)\r\n\tat py4j.Gateway.invoke(Gateway.java:282)\r\n\tat py4j.commands.AbstractCommand.invokeMethod(AbstractCommand.java:132)\r\n\tat py4j.commands.CallCommand.execute(CallCommand.java:79)\r\n\tat py4j.ClientServerConnection.waitForCommands(ClientServerConnection.java:182)\r\n\tat py4j.ClientServerConnection.run(ClientServerConnection.java:106)\r\n\tat java.lang.Thread.run(Thread.java:750)\r\n"
     ]
    }
   ],
   "source": [
    "from pyspark.ml.regression import LinearRegressionModel\n",
    "lrModel=LinearRegressionModel.load(\"D:\\Year_3\\Bigdata\\Đồ án\\IE212-Stock-price-prediction\\Saved model\")\n",
    "final_output=lrModel.transform(test_data)\n",
    "final_output.show()"
   ]
  }
 ],
 "metadata": {
  "kernelspec": {
   "display_name": "Python 3",
   "language": "python",
   "name": "python3"
  },
  "language_info": {
   "codemirror_mode": {
    "name": "ipython",
    "version": 3
   },
   "file_extension": ".py",
   "mimetype": "text/x-python",
   "name": "python",
   "nbconvert_exporter": "python",
   "pygments_lexer": "ipython3",
   "version": "3.11.4"
  }
 },
 "nbformat": 4,
 "nbformat_minor": 2
}
